{
 "cells": [
  {
   "cell_type": "markdown",
   "metadata": {},
   "source": [
    "# IT Academy - Data Science amb Python\n",
    "## Tasca 4: Programació Numèrica\n",
    "\n",
    "###  [Github Programació Numèrica](https://github.com/jesussantana/programacio_Numerica)\n",
    "[![forthebadge made-with-python](http://ForTheBadge.com/images/badges/made-with-python.svg)](https://www.python.org/)  \n",
    "[![Made withJupyter](https://img.shields.io/badge/Made%20with-Jupyter-orange?style=for-the-badge&logo=Jupyter)](https://jupyter.org/try) "
   ]
  },
  {
   "cell_type": "markdown",
   "metadata": {},
   "source": [
    "###  Exercici 1\n",
    "- Crea una funció que donat un Array d’una dimensió, et faci un resum estadístic bàsic de les dades. Si detecta que l’array té més d’una dimensió, ha de mostrar un missatge d’error."
   ]
  },
  {
   "cell_type": "code",
   "execution_count": 1,
   "metadata": {},
   "outputs": [
    {
     "name": "stdout",
     "output_type": "stream",
     "text": [
      "Número de observaciones:  13\n",
      "Max:  87\n",
      "Min:  1\n",
      "Media:  19.153846153846153\n",
      "Mediana:  5.0\n",
      "Desv est:  29.000918165428313\n",
      "Q 25:  3.0\n",
      "Q 75:  7.0\n"
     ]
    }
   ],
   "source": [
    "import numpy as np\n",
    "from numpy import random\n",
    "\n",
    "def statycal(arr):\n",
    "    \n",
    "    if arr.ndim > 1:\n",
    "        print (\"El array debe ser de 1 dimensión\")\n",
    "        \n",
    "    else:\n",
    "        print(\"Número de observaciones: \", len(arr))\n",
    "        print(\"Max: \", arr.max())\n",
    "        print(\"Min: \", arr.min())\n",
    "        print(\"Media: \",arr.mean())\n",
    "        print(\"Mediana: \", np.median(arr))\n",
    "        print(\"Desv est: \", np.std(arr))\n",
    "        print(\"Q 25: \", np.percentile(arr, 25))\n",
    "        print(\"Q 75: \", np.percentile(arr, 75))\n",
    "        \n",
    "arr = np.array([1,3,5,6,4,43,2,6,78,3,4,7,87])\n",
    "\n",
    "statycal(arr)"
   ]
  },
  {
   "cell_type": "markdown",
   "metadata": {},
   "source": [
    "###  Exercici 2\n",
    "- Crea una funció que et generi un quadrat NxN de nombres aleatoris entre el 0 i el 100."
   ]
  },
  {
   "cell_type": "code",
   "execution_count": 2,
   "metadata": {},
   "outputs": [
    {
     "name": "stdout",
     "output_type": "stream",
     "text": [
      "[[69  4]\n",
      " [ 6 65]]\n",
      "[[84 59 38 78 50 72 31 42 33 68 36 62 82 53]\n",
      " [75 15 97 12 45 71 16 85 88 86 63 91 15 63]\n",
      " [ 6 24 78 76 68 66 91 70 21 51 97 82 40 99]\n",
      " [56 22 80 90 30 33 75 59 16  8 87 44 14 51]\n",
      " [25 75  1  1 19 80 99  1 12 36  0 60 30 31]\n",
      " [16 76 48 99 53 55 45 93 52 24 55 39 66 15]\n",
      " [74 83 96 89 78 66 50 15 74 81 72 29 11 13]\n",
      " [ 5 42 54 38 37 93 62  5 86 29 64 19 90 96]\n",
      " [24 97 25 64 15 59 43 84 67 89 25 38 51 26]\n",
      " [ 7 28  7  7 84 27 64  9 38  9 82 55 67 26]\n",
      " [ 7 71 45 15 58 46 17 18 25  8 71  6 40 20]\n",
      " [81 83  5 26 78 34  7 11 47  5 87 92 90 72]\n",
      " [34 75 76  0 99 16  7 42 40 48 49 38  3 59]\n",
      " [38 37  2 77  9 33 87 15 70 55 19 42 89 28]]\n"
     ]
    }
   ],
   "source": [
    "def square(n):\n",
    "    print(random.randint(100, size = (n, n)))\n",
    "\n",
    "square(2)\n",
    "square(14)"
   ]
  },
  {
   "cell_type": "markdown",
   "metadata": {},
   "source": [
    "###  Exercici 3\n",
    "- Crea una funció que donada una taula de dues dimensions, et calculi els totals per fila i els totals per columna."
   ]
  },
  {
   "cell_type": "code",
   "execution_count": 3,
   "metadata": {},
   "outputs": [
    {
     "name": "stdout",
     "output_type": "stream",
     "text": [
      "Total por filas:  [12 21]\n",
      "Total por columnas:  [ 9 11 13]\n"
     ]
    }
   ],
   "source": [
    "def rowsColumns(array):\n",
    "    \n",
    "    if array.ndim != 2:\n",
    "        print (\"Introduce una array de 2 dimensiones\")\n",
    "        \n",
    "    else:\n",
    "        rows = np.sum (array, axis = 1)\n",
    "        columns = np.sum (array, axis = 0)\n",
    "        print(\"Total por filas: \", rows)\n",
    "        print(\"Total por columnas: \", columns)\n",
    "\n",
    "rowsColumns(np.array([[3,4,5], [6,7,8,]]))"
   ]
  },
  {
   "cell_type": "markdown",
   "metadata": {},
   "source": [
    "###  Exercici 4\n",
    "- Implementa manualment una funció que calculi el coeficient de correlació. Informa’t-en sobre els seus usos i interpretació."
   ]
  },
  {
   "cell_type": "code",
   "execution_count": 4,
   "metadata": {},
   "outputs": [
    {
     "name": "stdout",
     "output_type": "stream",
     "text": [
      "0.01378433110080725\n"
     ]
    }
   ],
   "source": [
    "def correlation(x, y):\n",
    "    \n",
    "    if len(x) != len(y):\n",
    "        print('Los vectores deben tener la misma dimensión')\n",
    "        \n",
    "    else:\n",
    "        covariance = np.sum([(x-np.mean(x))*(y-np.mean(y))])/(len(x)-1)\n",
    "        \n",
    "        stdX =(np.sum((x-np.mean(x))**2)/(len(x)-1))**(1/2)\n",
    "        stdY =(np.sum((y-np.mean(y))**2)/(len(y)-1))**(1/2)\n",
    "        \n",
    "        print(covariance/stdX/stdY)\n",
    "\n",
    "a = random.randint(100, size = (50))\n",
    "b = random.randint(10, size = (50))\n",
    "\n",
    "correlation (a, b)"
   ]
  },
  {
   "cell_type": "code",
   "execution_count": null,
   "metadata": {},
   "outputs": [],
   "source": []
  }
 ],
 "metadata": {
  "kernelspec": {
   "display_name": "Python 3",
   "language": "python",
   "name": "python3"
  },
  "language_info": {
   "codemirror_mode": {
    "name": "ipython",
    "version": 3
   },
   "file_extension": ".py",
   "mimetype": "text/x-python",
   "name": "python",
   "nbconvert_exporter": "python",
   "pygments_lexer": "ipython3",
   "version": "3.8.5"
  }
 },
 "nbformat": 4,
 "nbformat_minor": 4
}
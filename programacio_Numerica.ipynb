{
 "cells": [
  {
   "cell_type": "markdown",
   "metadata": {},
   "source": [
    "# IT Academy - Data Science amb Python\n",
    "## Tasca 4: Programació Numèrica\n",
    "\n",
    "###  [Github Programació Numèrica](https://github.com/jesussantana/programacio_Numerica)"
   ]
  },
  {
   "cell_type": "markdown",
   "metadata": {},
   "source": [
    "###  Exercici 1\n",
    "- Crea una funció que donat un Array d’una dimensió, et faci un resum estadístic bàsic de les dades. Si detecta que l’array té més d’una dimensió, ha de mostrar un missatge d’error."
   ]
  },
  {
   "cell_type": "code",
   "execution_count": 1,
   "metadata": {},
   "outputs": [
    {
     "name": "stdout",
     "output_type": "stream",
     "text": [
      "Número de observaciones:  13\n",
      "Max:  87\n",
      "Min:  1\n",
      "Media:  19.153846153846153\n",
      "Mediana:  5.0\n",
      "Desv est:  29.000918165428313\n",
      "Q 25:  3.0\n",
      "Q 75:  7.0\n"
     ]
    }
   ],
   "source": [
    "import numpy as np\n",
    "from numpy import random\n",
    "\n",
    "def statycal (arr):\n",
    "    \n",
    "    if arr.ndim > 1:\n",
    "        print (\"El array debe ser de 1 dimensión\")\n",
    "        \n",
    "    else:\n",
    "        print (\"Número de observaciones: \", len(arr))\n",
    "        print (\"Max: \", arr.max())\n",
    "        print (\"Min: \", arr.min())\n",
    "        print (\"Media: \",arr.mean())\n",
    "        print (\"Mediana: \", np.median(arr))\n",
    "        print (\"Desv est: \", np.std(arr))\n",
    "        print (\"Q 25: \", np.percentile(arr, 25))\n",
    "        print (\"Q 75: \", np.percentile(arr, 75))\n",
    "        \n",
    "arr = np.array ([1,3,5,6,4,43,2,6,78,3,4,7,87])\n",
    "statycal(arr)"
   ]
  },
  {
   "cell_type": "markdown",
   "metadata": {},
   "source": [
    "###  Exercici 2\n",
    "- Crea una funció que et generi un quadrat NxN de nombres aleatoris entre el 0 i el 100."
   ]
  },
  {
   "cell_type": "code",
   "execution_count": 2,
   "metadata": {},
   "outputs": [
    {
     "name": "stdout",
     "output_type": "stream",
     "text": [
      "[[79 70]\n",
      " [72 49]]\n",
      "[[26 72 24 60 94 91 94 13 55 98 54 82  3 68]\n",
      " [69 23 77 10 95 17 88 75 46 86 46  5 81 29]\n",
      " [78 33 91 39 24 75 60 22 30 28  5 95 73 67]\n",
      " [37 85 21 53 45 21 33  2 63 63 60 67 79 52]\n",
      " [37 68 93 54 61 35 86 75 30  9 85 96  4 68]\n",
      " [20 41 13 88 40 39 15 38 26 41 50 56 12 12]\n",
      " [72 54 49 46 11  1 25 89 32 56 73 78 95 77]\n",
      " [70 46 10 17 80 95 57 45 40 18 89 98 54 51]\n",
      " [90 74 29 38 82 56 75 15  6 28 39  0  4 12]\n",
      " [16 28 25 72 90 98 85 54 52 25 83 85 23 47]\n",
      " [42 38 18 63 30 73 41 29 17  5 71 50 34  7]\n",
      " [25 37 61 95 80 98  3 44  2 39 68 79 19 34]\n",
      " [66 14 62 61 32 57 29 80 31 39 54 30 74 61]\n",
      " [58 34 52 81  6  0 57 58 93 45 32 30 17 10]]\n"
     ]
    }
   ],
   "source": [
    "def square (n):\n",
    "    print (random.randint (100, size = (n, n)))\n",
    "\n",
    "square (2)\n",
    "square (14)"
   ]
  },
  {
   "cell_type": "markdown",
   "metadata": {},
   "source": [
    "###  Exercici 3\n",
    "- Crea una funció que donada una taula de dues dimensions, et calculi els totals per fila i els totals per columna."
   ]
  },
  {
   "cell_type": "code",
   "execution_count": 3,
   "metadata": {},
   "outputs": [
    {
     "name": "stdout",
     "output_type": "stream",
     "text": [
      "Total por filas:  [12 21]\n",
      "Total por columnas:  [ 9 11 13]\n"
     ]
    }
   ],
   "source": [
    "def rowsColumns (array):\n",
    "    \n",
    "    if array.ndim != 2:\n",
    "        print (\"Introduce una array de 2 dimensiones\")\n",
    "        \n",
    "    else:\n",
    "        rows = np.sum (array, axis = 1)\n",
    "        columns = np.sum (array, axis = 0)\n",
    "        print (\"Total por filas: \", rows)\n",
    "        print (\"Total por columnas: \", columns)\n",
    "\n",
    "rowsColumns (np.array ([[3,4,5], [6,7,8,]]))"
   ]
  },
  {
   "cell_type": "markdown",
   "metadata": {},
   "source": [
    "###  Exercici 4\n",
    "- Implementa manualment una funció que calculi el coeficient de correlació. Informa’t-en sobre els seus usos i interpretació."
   ]
  },
  {
   "cell_type": "code",
   "execution_count": 4,
   "metadata": {},
   "outputs": [
    {
     "name": "stdout",
     "output_type": "stream",
     "text": [
      "-0.12916618282726738\n"
     ]
    }
   ],
   "source": [
    "def correlation (x, y):\n",
    "    \n",
    "    if len(x) != len(y):\n",
    "        print ('Los vectores de entrada deben tener la misma dimensión')\n",
    "        \n",
    "    else:\n",
    "        cov = np.sum ([(x-np.mean(x))*(y-np.mean(y))])/(len(x)-1)\n",
    "        stdX = (np.sum((x-np.mean(x))**2)/(len(x)-1))**(1/2)\n",
    "        stdY = (np.sum((y-np.mean(y))**2)/(len(y)-1))**(1/2)\n",
    "        print(cov/stdX/stdY)\n",
    "\n",
    "a = random.randint (100, size = (50))\n",
    "b = random.randint (10, size = (50))\n",
    "\n",
    "correlation (a, b)"
   ]
  }
 ],
 "metadata": {
  "kernelspec": {
   "display_name": "Python 3",
   "language": "python",
   "name": "python3"
  },
  "language_info": {
   "codemirror_mode": {
    "name": "ipython",
    "version": 3
   },
   "file_extension": ".py",
   "mimetype": "text/x-python",
   "name": "python",
   "nbconvert_exporter": "python",
   "pygments_lexer": "ipython3",
   "version": "3.8.5"
  }
 },
 "nbformat": 4,
 "nbformat_minor": 4
}

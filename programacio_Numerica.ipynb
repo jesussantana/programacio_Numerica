{
 "cells": [
  {
   "cell_type": "markdown",
   "metadata": {},
   "source": [
    "# IT Academy - Data Science amb Python\n",
    "## Tasca 4: Programació Numèrica\n",
    "\n",
    "###  [Github Programació Numèrica](https://github.com/jesussantana/programacio_Numerica)"
   ]
  },
  {
   "cell_type": "markdown",
   "metadata": {},
   "source": [
    "###  Exercici 1\n",
    "- Crea una funció que donat un Array d’una dimensió, et faci un resum estadístic bàsic de les dades. Si detecta que l’array té més d’una dimensió, ha de mostrar un missatge d’error."
   ]
  },
  {
   "cell_type": "code",
   "execution_count": 1,
   "metadata": {},
   "outputs": [
    {
     "name": "stdout",
     "output_type": "stream",
     "text": [
      "El resum bàsic de l'array: [ 1  2  3  4  5  6  7  8  9 10  8  6  5]\n",
      "Nombre d'elements: 13\n",
      "La mitja és: 5.6923076923076925\n",
      "La mitjana és: 6.0\n",
      "El màxim de l'array és 10\n",
      "El mínim de l'array és 1\n",
      "La desviació estàndard és: 2.6131211925327738\n",
      "L'array té més d'una dimensió\n",
      "No és un Array\n"
     ]
    }
   ],
   "source": [
    "import numpy as np\n",
    "from numpy import random as rnd\n",
    "\n",
    "def statisticalSummary(array):\n",
    "    \n",
    "    try:\n",
    "        \n",
    "        if array.ndim != 1:\n",
    "            print(\"L'array té més d'una dimensió\")\n",
    "            \n",
    "        else:\n",
    "            print(f\"El resum bàsic de l'array: {array}\")\n",
    "            print(f\"Nombre d'elements: {len(array)}\")\n",
    "            print(f\"La mitja és: {array.mean()}\")\n",
    "            print(f\"La mitjana és: {np.median(array)}\")\n",
    "            print(f\"El màxim de l'array és {format(array.max())}\")\n",
    "            print(f\"El mínim de l'array és {format(array.min())}\")\n",
    "            print(f\"La desviació estàndard és: {np.std(array)}\")\n",
    "            \n",
    "    except  AttributeError:\n",
    "        print(\"No és un Array\")\n",
    "        \n",
    "statisticalSummary(np.array([1, 2, 3, 4, 5, 6, 7, 8, 9, 10, 8, 6, 5]))\n",
    "statisticalSummary(np.array([[1, 3, 4, 2, 2, 7],[5, 2, 2, 1, 4, 1], [3, 3, 2, 2, 1, 1]]))\n",
    "statisticalSummary('Python')"
   ]
  },
  {
   "cell_type": "markdown",
   "metadata": {},
   "source": [
    "###  Exercici 2\n",
    "- Crea una funció que et generi un quadrat NxN de nombres aleatoris entre el 0 i el 100."
   ]
  },
  {
   "cell_type": "code",
   "execution_count": 2,
   "metadata": {},
   "outputs": [
    {
     "name": "stdout",
     "output_type": "stream",
     "text": [
      "[[47]]\n",
      "[[47 83]\n",
      " [38 53]]\n",
      "[[47 83 38]\n",
      " [53 76 24]\n",
      " [15 49 23]]\n",
      "Ha de ser un nombre natural\n",
      "None\n"
     ]
    }
   ],
   "source": [
    "def square(num):\n",
    "    \n",
    "    try:\n",
    "        \n",
    "        rnd.seed(1234)\n",
    "        array = rnd.randint(100,size=(num,num))\n",
    "        return array\n",
    "    \n",
    "    except TypeError:\n",
    "        \n",
    "        print(\"Ha de ser un nombre natural\")\n",
    "\n",
    "print(square(1))\n",
    "print(square(2))\n",
    "print(square(3))\n",
    "print(square('hola'))"
   ]
  },
  {
   "cell_type": "code",
   "execution_count": null,
   "metadata": {},
   "outputs": [],
   "source": []
  }
 ],
 "metadata": {
  "kernelspec": {
   "display_name": "Python 3",
   "language": "python",
   "name": "python3"
  },
  "language_info": {
   "codemirror_mode": {
    "name": "ipython",
    "version": 3
   },
   "file_extension": ".py",
   "mimetype": "text/x-python",
   "name": "python",
   "nbconvert_exporter": "python",
   "pygments_lexer": "ipython3",
   "version": "3.8.5"
  }
 },
 "nbformat": 4,
 "nbformat_minor": 4
}

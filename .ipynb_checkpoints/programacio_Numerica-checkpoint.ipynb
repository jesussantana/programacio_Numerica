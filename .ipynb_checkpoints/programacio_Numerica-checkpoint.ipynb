{
 "cells": [
  {
   "cell_type": "markdown",
   "metadata": {},
   "source": [
    "# IT Academy - Data Science amb Python\n",
    "## Tasca 4: Programació Numèrica\n",
    "\n",
    "###  [Github Programació Numèrica](https://github.com/jesussantana/programacio_Numerica)"
   ]
  },
  {
   "cell_type": "markdown",
   "metadata": {},
   "source": [
    "###  Exercici 1\n",
    "- Crea una funció que donat un Array d’una dimensió, et faci un resum estadístic bàsic de les dades. Si detecta que l’array té més d’una dimensió, ha de mostrar un missatge d’error."
   ]
  },
  {
   "cell_type": "code",
   "execution_count": 1,
   "metadata": {},
   "outputs": [
    {
     "name": "stdout",
     "output_type": "stream",
     "text": [
      "El resum bàsic de l'array: [ 1  2  3  4  5  6  7  8  9 10  8  6  5]\n",
      "Nombre d'elements: 13\n",
      "La mitjana és: 5.6923076923076925\n",
      "La mediana és: 6.0\n",
      "La desviació estàndard és: 2.6131211925327738\n"
     ]
    }
   ],
   "source": [
    "import numpy as np\n",
    "\n",
    "def resumEstadistic(array):\n",
    "    \n",
    "    if array.ndim != 1:\n",
    "        raise ValueError(\"L'array té més d'una dimensió\")\n",
    "    else:\n",
    "        print(f\"El resum bàsic de l'array: {array}\")\n",
    "        print(f\"Nombre d'elements: {len(array)}\")\n",
    "        print(f\"La mitja és: {array.mean()}\")\n",
    "        print(f\"La mitjana és: {np.median(array)}\")\n",
    "        print(f\"La desviació estàndard és: {np.std(array)}\")\n",
    "        \n",
    "resumEstadistic(np.array([1, 2, 3, 4, 5, 6, 7, 8, 9, 10, 8, 6, 5]))\n"
   ]
  },
  {
   "cell_type": "code",
   "execution_count": null,
   "metadata": {},
   "outputs": [],
   "source": []
  }
 ],
 "metadata": {
  "kernelspec": {
   "display_name": "Python 3",
   "language": "python",
   "name": "python3"
  },
  "language_info": {
   "codemirror_mode": {
    "name": "ipython",
    "version": 3
   },
   "file_extension": ".py",
   "mimetype": "text/x-python",
   "name": "python",
   "nbconvert_exporter": "python",
   "pygments_lexer": "ipython3",
   "version": "3.8.5"
  }
 },
 "nbformat": 4,
 "nbformat_minor": 4
}
